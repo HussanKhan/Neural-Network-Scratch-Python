{
 "cells": [
  {
   "cell_type": "code",
   "execution_count": 710,
   "metadata": {},
   "outputs": [],
   "source": [
    "# used for working with matrices\n",
    "import numpy\n",
    "\n",
    "# used to import sigmoid function\n",
    "import scipy.special \n",
    "\n",
    "# used for plotting\n",
    "import matplotlib.pyplot\n",
    "%matplotlib inline"
   ]
  },
  {
   "cell_type": "code",
   "execution_count": 711,
   "metadata": {},
   "outputs": [
    {
     "name": "stdout",
     "output_type": "stream",
     "text": [
      "[[0. 0.]\n",
      " [0. 0.]\n",
      " [0. 0.]]\n"
     ]
    }
   ],
   "source": [
    "# creating test matrix\n",
    "a = numpy.zeros([3, 2])\n",
    "print(a)"
   ]
  },
  {
   "cell_type": "code",
   "execution_count": 712,
   "metadata": {},
   "outputs": [
    {
     "data": {
      "text/plain": [
       "array([[1., 2.],\n",
       "       [3., 4.],\n",
       "       [5., 6.]])"
      ]
     },
     "execution_count": 712,
     "metadata": {},
     "output_type": "execute_result"
    }
   ],
   "source": [
    "# You can change value like below\n",
    "a[0, 0] = 1\n",
    "a[0, 1] = 2\n",
    "a[1, 0] = 3\n",
    "a[1, 1] = 4\n",
    "a[2, 0] = 5\n",
    "a[2, 1] = 6\n",
    "a"
   ]
  },
  {
   "cell_type": "code",
   "execution_count": 713,
   "metadata": {},
   "outputs": [
    {
     "data": {
      "text/plain": [
       "<matplotlib.image.AxesImage at 0x16a2d71d278>"
      ]
     },
     "execution_count": 713,
     "metadata": {},
     "output_type": "execute_result"
    },
    {
     "data": {
      "image/png": "[encoded data removed]",
      "text/plain": [
       "<Figure size 432x288 with 1 Axes>"
      ]
     },
     "metadata": {},
     "output_type": "display_data"
    }
   ],
   "source": [
    "# Plotting array\n",
    "matplotlib.pyplot.imshow(a)"
   ]
  },
  {
   "cell_type": "code",
   "execution_count": 714,
   "metadata": {},
   "outputs": [],
   "source": [
    "# neural network class\n",
    "class NeuralNetwork:\n",
    "    \n",
    "    # init neural net\n",
    "    def __init__(self, inputnodes, hiddennodes, outputnodes, learningrate):\n",
    "        # Node values\n",
    "        self.inodes = inputnodes\n",
    "        self.hnodes = hiddennodes\n",
    "        self.onodes = outputnodes\n",
    "        \n",
    "        # learning rate\n",
    "        self.lr = learningrate\n",
    "        \n",
    "        # setting weights randomly, between -0.5 and +0.5\n",
    "        # remember weights are between nodes, and each row is one\n",
    "        # node\n",
    "        \n",
    "        # may seem backwards\n",
    "        # THESE ARE WEIGHTS\n",
    "        \n",
    "        # from input to hidden\n",
    "        self.wih = (numpy.random.rand(self.hnodes, self.inodes) - 0.5)\n",
    "        print(self.wih)\n",
    "        \n",
    "        # from hidden to output\n",
    "        self.who = (numpy.random.rand(self.onodes, self.hnodes) - 0.5)\n",
    "\n",
    "        # setting random weights\n",
    "        # this way gets the central distrobutuion of random\n",
    "#         self.wih = numpy.random.normal(0.0, pow(self.hnodes, -0.5), (self.hnodes, self.inodes))\n",
    "#         self.who = numpy.random.normal(0.0, pow(self.onodes, -0.5), (self.onodes, self.hnodes))\n",
    "        \n",
    "        # activation function\n",
    "        self.activation = lambda x: scipy.special.expit(x)\n",
    "        pass\n",
    "    \n",
    "    # query net\n",
    "    # this mainly focuses on the input and out layers\n",
    "    # the first nodes and the last nodes need to be delt with at this query level\n",
    "    def query(self, inputs_list):\n",
    "        # inputs converted to 2d array and transposed to be fed into array\n",
    "        inputs = numpy.array(inputs_list, ndmin=2).T\n",
    "        \n",
    "        # This connects the inputs to the input to hidden part of 2d array above in __init__\n",
    "        hidden_inputs = numpy.dot(self.wih, inputs)\n",
    "        \n",
    "        # To get signals from hidden nde\n",
    "        # this takes use to the middle layer\n",
    "        hidden_outputs = self.activation(hidden_inputs)\n",
    "        \n",
    "        # calculates signals in final out layer\n",
    "        final_inputs = numpy.dot(self.who, hidden_outputs)\n",
    "        # calcs signal from output\n",
    "        final_outputs = self.activation(final_inputs)\n",
    "        return final_outputs\n",
    "    \n",
    "    # train nn\n",
    "    # To parts of trainging, propagating the network and backpra gating\n",
    "    def train(self, inputs_list, target_list):\n",
    "        # inputs converted to 2d array and transposed to be fed into array\n",
    "        inputs = numpy.array(inputs_list, ndmin=2).T\n",
    "        \n",
    "        # targets converted to 2d array and transposed to be fed into array\n",
    "        targets = numpy.array(target_list, ndmin=2).T\n",
    "        \n",
    "        # This connects the inputs to the input to hidden part of 2d array above in __init__\n",
    "        hidden_inputs = numpy.dot(self.wih, inputs)\n",
    "        \n",
    "        # To get signals from hidden nde\n",
    "        # this takes use to the middle layer\n",
    "        hidden_outputs = self.activation(hidden_inputs)\n",
    "        \n",
    "        # calculates signals in final out layer\n",
    "        final_inputs = numpy.dot(self.who, hidden_outputs)\n",
    "        \n",
    "        # calcs signal from output\n",
    "        final_outputs = self.activation(final_inputs)\n",
    "        \n",
    "        # calc error = target - output\n",
    "        # this is happening at the end of the net\n",
    "        # between hidden and final layer\n",
    "        output_errors = targets - final_outputs\n",
    "        \n",
    "        # we are sendning a propation of the error down each weight\n",
    "        # remember w11/w11+w21\n",
    "        # but transposing the weights allowed use to avoud the bottom divsion\n",
    "        # between hidden and input layer\n",
    "        hidden_errors = numpy.dot(self.who.T, output_errors)\n",
    "        \n",
    "        # now using the equation for changing weight\n",
    "        #             e     * sig(E w * o) * (1 - sig(E w * o)) * O\n",
    "        # we will add or subtract from each weight\n",
    "        \n",
    "         # update the weights for the links between the hidden and output layers\n",
    "        self.who += self.lr * numpy.dot((output_errors * final_outputs * (1.0 - final_outputs)), numpy.transpose(hidden_outputs))\n",
    "        \n",
    "        # update the weights for the links between the input and hidden layers\n",
    "        self.wih += self.lr * numpy.dot((hidden_errors * hidden_outputs * (1.0 - hidden_outputs)), numpy.transpose(inputs))\n",
    "        \n",
    "        pass"
   ]
  },
  {
   "cell_type": "code",
   "execution_count": 715,
   "metadata": {},
   "outputs": [
    {
     "data": {
      "text/plain": [
       "array([[ 0.05045573,  0.00389503,  0.26883114],\n",
       "       [-0.04402464,  0.10437505,  0.37550805],\n",
       "       [ 0.47515057, -0.39866528,  0.32225013]])"
      ]
     },
     "execution_count": 715,
     "metadata": {},
     "output_type": "execute_result"
    }
   ],
   "source": [
    "# three input nodes and three hidden layer\n",
    "# each row is a hidden layer node\n",
    "(numpy.random.rand(3, 3) - 0.5)"
   ]
  },
  {
   "cell_type": "code",
   "execution_count": 716,
   "metadata": {},
   "outputs": [
    {
     "data": {
      "text/plain": [
       "<matplotlib.image.AxesImage at 0x16a2d76e7f0>"
      ]
     },
     "execution_count": 716,
     "metadata": {},
     "output_type": "execute_result"
    },
    {
     "data": {
      "image/png": "[encoded data removed]",
      "text/plain": [
       "<Figure size 432x288 with 1 Axes>"
      ]
     },
     "metadata": {},
     "output_type": "display_data"
    }
   ],
   "source": [
    "# GOING TO WORK ON MNIST DATASET WITH THREE LAYER NET\n",
    "data_file = open(\"mnist_train.csv\", 'r')\n",
    "data_list = data_file.readlines()\n",
    "data_file.close()\n",
    "# selecting the first item in list\n",
    "data_list[0]\n",
    "# label is first number, and rest is pixel data\n",
    "\n",
    "# plotting\n",
    "\n",
    "# converting in normal list\n",
    "all_values = data_list[1].split(\",\")\n",
    "\n",
    "# reshaping array for plotting 28 by 28\n",
    "# ONLY WAY RESHAPING WORKS IF BELOW TRUE\n",
    "# Must make complete square total of 784 entries in all_values, so 28 x 28 = 784\n",
    "image_array = numpy.asfarray(all_values[1:]).reshape((28, 28))\n",
    "\n",
    "# Scaling all values between 0.01 and 1.00\n",
    "scaled_input = (numpy.asfarray(all_values[1:]) / 255.0 * 0.99) + 0.01\n",
    "\n",
    "# plotting\n",
    "matplotlib.pyplot.imshow(image_array)"
   ]
  },
  {
   "cell_type": "code",
   "execution_count": 717,
   "metadata": {},
   "outputs": [],
   "source": [
    "# the network will have an output of 10, each representing the posibiity of the number\n",
    "# target array will look like bottom\n",
    "# target label of 5 will look like this\n",
    "#  0       1     2     3     4     5     6     7    8     9\n",
    "# [0.01, 0.01, 0.01, 0.01, 0.01, 0.99, 0.01, 0.01, 0.01, 0.01]\n",
    "# indexes match with label\n",
    "\n",
    "# number of output nodes\n",
    "onodes = 10\n",
    "\n",
    "# creates an 1D array of 10 zeros, and adds 0.01 to each entry\n",
    "targets = numpy.zeros(onodes) + 0.01\n",
    "\n",
    "# get int value of label, label is in string format before\n",
    "label = int(all_values[0])\n",
    "\n",
    "# Index and label matches up, so make that index position equal to 0.99\n",
    "targets[label] = 0.99\n"
   ]
  },
  {
   "cell_type": "code",
   "execution_count": 718,
   "metadata": {},
   "outputs": [
    {
     "name": "stdout",
     "output_type": "stream",
     "text": [
      "[0.99 0.01 0.01 0.01 0.01 0.01 0.01 0.01 0.01 0.01]\n"
     ]
    }
   ],
   "source": [
    "print(targets)"
   ]
  },
  {
   "cell_type": "code",
   "execution_count": 719,
   "metadata": {},
   "outputs": [
    {
     "name": "stdout",
     "output_type": "stream",
     "text": [
      "NUMBER OF TEST DATA: 60000\n"
     ]
    }
   ],
   "source": [
    "# now doing code for neural network training\n",
    "\n",
    "# number of pixels = number of input nodes\n",
    "input_nodes = 784\n",
    "\n",
    "# UNKNOWN HOW TO CHOOSE\n",
    "# always choose lower that input because purpose of NN is to find common patterns, with is always lower than input\n",
    "# Choosing lower values, force NN to summarize data\n",
    "hidden_nodes = 300\n",
    "\n",
    "# 10 possible answers, so 10 nodes\n",
    "output_nodes = 10\n",
    "\n",
    "# learning rate, how slowly weights will change\n",
    "learning_rate = 0.1\n",
    "\n",
    "# create net\n",
    "n = NeuralNetwork(input_nodes, hidden_nodes, output_nodes, learning_rate)\n",
    "\n",
    "\n",
    "# loading data\n",
    "data_file = open(\"mnist_train.csv\", 'r')\n",
    "data_list = data_file.readlines()\n",
    "data_file.close()\n",
    "\n",
    "# this section goes through each entry and trains data\n",
    "\n",
    "#######################################################\n",
    "# THIS PART OF THE CODE CHANGES THE NEURAL NETWORK!!!!!!!!\n",
    "#######################################################\n",
    "\n",
    "\n",
    "# Running 2 epochs on data\n",
    "print(\"NUMBER OF TEST DATA: {}\".format(len(data_list)))\n",
    "for i in range(1, 6):\n",
    "    for record in data_list:\n",
    "        # converting in normal list\n",
    "        all_values = record.split(\",\")\n",
    "    \n",
    "        # Scaling all values between 0.01 and 1.00 color of pixel\n",
    "        inputs = (numpy.asfarray(all_values[1:]) / 255.0 * 0.99) + 0.01\n",
    "    \n",
    "        # creates an 1D array of 10 zeros, and adds 0.01 to each entry\n",
    "        targets = numpy.zeros(output_nodes) + 0.01\n",
    "\n",
    "        # get int value of label, label is in string format before\n",
    "        label = int(all_values[0])\n",
    "\n",
    "        # Index and label matches up, so make that index position equal to 0.99\n",
    "        targets[label] = 0.99\n",
    "    \n",
    "        # target array has been created and values of pixels have been scaled\n",
    "        # feeding inputs and targets into neural network\n",
    "        n.train(inputs, targets)\n",
    "    \n",
    "    \n",
    "    \n",
    "    \n",
    "\n",
    "    \n",
    "\n",
    "\n",
    "\n"
   ]
  },
  {
   "cell_type": "code",
   "execution_count": 722,
   "metadata": {},
   "outputs": [
    {
     "name": "stdout",
     "output_type": "stream",
     "text": [
      "Performance: 0.9742\n",
      "Out of 10000 tests, 9742 predictions were correct\n"
     ]
    }
   ],
   "source": [
    "# loading test files\n",
    "test_file = open(\"mnist_test.csv\", 'r')\n",
    "test_list = test_file.readlines()\n",
    "test_file.close()\n",
    "\n",
    "# testing one value \n",
    "# converting in normal list\n",
    "# all_values = test_list[2].split(\",\")\n",
    "\n",
    "# print(all_values[0])\n",
    "\n",
    "# # Scaling all values between 0.01 and 1.00 color of pixel\n",
    "# inputs = (numpy.asfarray(all_values[1:]) / 255.0 * 0.99) + 0.01\n",
    "\n",
    "# answer = n.query(inputs)\n",
    "\n",
    "# print(answer)\n",
    "\n",
    "\n",
    "correct = []\n",
    "wrong = []\n",
    "total_test = 0\n",
    "\n",
    "# go through rest of test data and score\n",
    "# THIS DOES NOT CHANGE NUERAL NETWORK\n",
    "\n",
    "for record in test_list:\n",
    "    # converting in normal list\n",
    "    all_values = record.split(\",\")\n",
    "    \n",
    "    # correct label from record\n",
    "    correct_lable = int(all_values[0])\n",
    "    \n",
    "    # Scaling all values between 0.01 and 1.00 color of pixel\n",
    "    inputs = (numpy.asfarray(all_values[1:]) / 255.0 * 0.99) + 0.01\n",
    "    \n",
    "    # query network\n",
    "    output = n.query(inputs)\n",
    "    \n",
    "    total_test = total_test + 1\n",
    "    \n",
    "    # get the index of the max number from returned numpy array\n",
    "    lable = numpy.argmax(output)\n",
    "    \n",
    "    # if it matches, append correct list\n",
    "    if lable == correct_lable:\n",
    "        correct.append(1)\n",
    "    else:\n",
    "        wrong.append(0)\n",
    "        \n",
    "    \n",
    "        \n",
    "print(\"Performance: {}\".format(len(correct)/total_test))\n",
    "\n",
    "print(\"Out of {} tests, {} predictions were correct\".format(total_test, len(correct)))\n",
    "    \n",
    "\n"
   ]
  },
  {
   "cell_type": "code",
   "execution_count": null,
   "metadata": {},
   "outputs": [],
   "source": []
  },
  {
   "cell_type": "code",
   "execution_count": null,
   "metadata": {},
   "outputs": [],
   "source": []
  },
  {
   "cell_type": "code",
   "execution_count": null,
   "metadata": {},
   "outputs": [],
   "source": []
  },
  {
   "cell_type": "code",
   "execution_count": null,
   "metadata": {},
   "outputs": [],
   "source": []
  }
 ],
 "metadata": {
  "kernelspec": {
   "display_name": "Python 3",
   "language": "python",
   "name": "python3"
  },
  "language_info": {
   "codemirror_mode": {
    "name": "ipython",
    "version": 3
   },
   "file_extension": ".py",
   "mimetype": "text/x-python",
   "name": "python",
   "nbconvert_exporter": "python",
   "pygments_lexer": "ipython3",
   "version": "3.6.4"
  }
 },
 "nbformat": 4,
 "nbformat_minor": 2
}
